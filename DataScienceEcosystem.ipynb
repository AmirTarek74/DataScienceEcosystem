{
  "nbformat": 4,
  "nbformat_minor": 0,
  "metadata": {
    "colab": {
      "provenance": []
    },
    "kernelspec": {
      "name": "python3",
      "display_name": "Python 3"
    },
    "language_info": {
      "name": "python"
    }
  },
  "cells": [
    {
      "cell_type": "markdown",
      "source": [
        "# Data Science Tools and Ecosystem"
      ],
      "metadata": {
        "id": "qME2yExTPwAl"
      }
    },
    {
      "cell_type": "markdown",
      "source": [
        "in this notebook, Data Science Tools and Ecosystem are summarize"
      ],
      "metadata": {
        "id": "KLVqT7NVQaVw"
      }
    },
    {
      "cell_type": "markdown",
      "source": [
        "**Objective**\n",
        "- Data Science Tools\n",
        "- Data Science Languages\n",
        "- Data Science Libraries\n",
        "- Create markdown\n",
        "- Create code cell"
      ],
      "metadata": {
        "id": "Gqw0tZqST-Fx"
      }
    },
    {
      "cell_type": "markdown",
      "source": [
        "some of popular languages that Data Scientists use are :\n",
        "1. Python\n",
        "2. R\n",
        "3. Julia\n",
        "4. Sqala"
      ],
      "metadata": {
        "id": "wxc9UchwQlnq"
      }
    },
    {
      "cell_type": "markdown",
      "source": [
        "some of commonly used  libraries used by   Data Scientists include :\n",
        "1. Numpy\n",
        "2. Pandas\n",
        "3. Matplotlib\n",
        "4. Scikit-learn\n",
        "5. Pytorch\n",
        "6. TensorFlow"
      ],
      "metadata": {
        "id": "xVhilhrPQ_js"
      }
    },
    {
      "cell_type": "markdown",
      "source": [
        "| Data Science Tools |\n",
        "|--------------------|\n",
        "|Jupyter Notebooks |\n",
        "|RStudio|\n",
        "|Anaconda|\n",
        "|Google Colaboratory|\n"
      ],
      "metadata": {
        "id": "SIN-G5NSRoQf"
      }
    },
    {
      "cell_type": "markdown",
      "source": [
        "### below are a few examples of evaluating arthmetic expressions in Python."
      ],
      "metadata": {
        "id": "GJZ1MC3AS4RI"
      }
    },
    {
      "cell_type": "code",
      "source": [
        "#this experssion is an example to preform addation and multiplication\n",
        "(3*4)+5"
      ],
      "metadata": {
        "colab": {
          "base_uri": "https://localhost:8080/"
        },
        "id": "ZF0WYu8DS36X",
        "outputId": "d99f033c-30a5-4e88-ccfc-d1b3043b082f"
      },
      "execution_count": 4,
      "outputs": [
        {
          "output_type": "execute_result",
          "data": {
            "text/plain": [
              "17"
            ]
          },
          "metadata": {},
          "execution_count": 4
        }
      ]
    },
    {
      "cell_type": "code",
      "source": [
        "# this will convert 200 mins to hours by dividing by 60\n",
        "mins = 200\n",
        "hours = mins/60\n",
        "hours"
      ],
      "metadata": {
        "colab": {
          "base_uri": "https://localhost:8080/"
        },
        "id": "3hrn4bSNTQqG",
        "outputId": "7b989983-e2a8-474d-c782-e45ed3c2192f"
      },
      "execution_count": 5,
      "outputs": [
        {
          "output_type": "execute_result",
          "data": {
            "text/plain": [
              "3.3333333333333335"
            ]
          },
          "metadata": {},
          "execution_count": 5
        }
      ]
    },
    {
      "cell_type": "markdown",
      "source": [
        "## Author\n",
        "Amir Tarek"
      ],
      "metadata": {
        "id": "atS9nJ_aUttP"
      }
    }
  ]
}